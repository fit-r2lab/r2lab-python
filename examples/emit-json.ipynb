{
 "cells": [
  {
   "cell_type": "code",
   "execution_count": 2,
   "metadata": {},
   "outputs": [],
   "source": [
    "import json"
   ]
  },
  {
   "cell_type": "markdown",
   "metadata": {},
   "source": [
    "### Import sidecar class from r2lab"
   ]
  },
  {
   "cell_type": "code",
   "execution_count": 3,
   "metadata": {},
   "outputs": [],
   "source": [
    "from r2lab import R2labSidecar"
   ]
  },
  {
   "cell_type": "markdown",
   "metadata": {},
   "source": [
    "### Servers"
   ]
  },
  {
   "cell_type": "markdown",
   "metadata": {},
   "source": [
    "By default R2labSidecar joins https://r2lab.inria.fr:999/. To reach a local sidecar devel server, use"
   ]
  },
  {
   "cell_type": "code",
   "execution_count": 4,
   "metadata": {},
   "outputs": [],
   "source": [
    "devel_url = \"http://localhost:10000/\""
   ]
  },
  {
   "cell_type": "markdown",
   "metadata": {},
   "source": [
    "### Probing for the complete nodes status"
   ]
  },
  {
   "cell_type": "code",
   "execution_count": 6,
   "metadata": {},
   "outputs": [
    {
     "name": "stderr",
     "output_type": "stream",
     "text": [
      "/usr/local/lib/python3.6/site-packages/urllib3/connectionpool.py:858: InsecureRequestWarning: Unverified HTTPS request is being made. Adding certificate verification is strongly advised. See: https://urllib3.readthedocs.io/en/latest/advanced-usage.html#ssl-warnings\n",
      "  InsecureRequestWarning)\n"
     ]
    }
   ],
   "source": [
    "with R2labSidecar() as sidecar:\n",
    "    status = sidecar.nodes_status()"
   ]
  },
  {
   "cell_type": "code",
   "execution_count": 11,
   "metadata": {},
   "outputs": [
    {
     "name": "stdout",
     "output_type": "stream",
     "text": [
      "node 9 -> {'gnuradio_release': 'none', 'uname': '4.14.14-300.fc27.x86_64', 'usrp_on_off': 'off', 'os_release': 'fedora-27', 'control_ping': 'off', 'cmc_on_off': 'off', 'image_radical': 'fedora-27-new-layout', 'id': 9, 'available': 'ok', 'control_ssh': 'off', 'images_usrp': [], 'images_wifi': ['09-1.JPG', '09-2.JPG'], 'usrp_type': 'limesdr', 'usrp_duplexer': 'for eNB'}\n",
      "node 28 -> {'gnuradio_release': 'none', 'available': 'ok', 'uname': '4.14.14-300.fc27.x86_64', 'usrp_on_off': 'off', 'control_ping': 'off', 'cmc_on_off': 'off', 'image_radical': 'fedora-27-new-layout', 'id': 28, 'os_release': 'fedora-27', 'control_ssh': 'off', 'usrp_type': 'usrp1', 'images_usrp': [], 'images_wifi': ['28-1.JPG', '28-2.JPG']}\n"
     ]
    }
   ],
   "source": [
    "from itertools import islice\n",
    "for id, info in islice(status.items(), 2):\n",
    "    print(f\"node {id} -> {info}\")"
   ]
  },
  {
   "cell_type": "markdown",
   "metadata": {},
   "source": [
    "### How to emit a message"
   ]
  },
  {
   "cell_type": "markdown",
   "metadata": {},
   "source": [
    "Make sure your devel sidecar server is up and running, and:"
   ]
  },
  {
   "cell_type": "code",
   "execution_count": null,
   "metadata": {},
   "outputs": [],
   "source": [
    "with R2labSidecar(devel_url) as sidecar:\n",
    "    sidecar.set_node_attribute(1, 'available', 'ok')\n",
    "    sidecar.set_nodes_triples(\n",
    "        (2, 'available', 'ko'),\n",
    "        (2, 'cmc_on_off', 'off'),\n",
    "        (1, 'available', 'ko'),\n",
    "    )"
   ]
  }
 ],
 "metadata": {
  "kernelspec": {
   "display_name": "Python 3",
   "language": "python",
   "name": "python3"
  },
  "language_info": {
   "codemirror_mode": {
    "name": "ipython",
    "version": 3
   },
   "file_extension": ".py",
   "mimetype": "text/x-python",
   "name": "python",
   "nbconvert_exporter": "python",
   "pygments_lexer": "ipython3",
   "version": "3.6.4"
  }
 },
 "nbformat": 4,
 "nbformat_minor": 2
}
